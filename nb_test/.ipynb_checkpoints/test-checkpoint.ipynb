{
 "cells": [
  {
   "cell_type": "code",
   "execution_count": null,
   "metadata": {
    "collapsed": true,
    "jupyter": {
     "outputs_hidden": true
    },
    "pycharm": {
     "name": "#%%\n"
    }
   },
   "outputs": [],
   "source": [
    "!which python"
   ]
  },
  {
   "cell_type": "code",
   "execution_count": 1,
   "metadata": {
    "collapsed": false,
    "jupyter": {
     "outputs_hidden": false
    },
    "pycharm": {
     "name": "#%%\n"
    }
   },
   "outputs": [
    {
     "name": "stdout",
     "output_type": "stream",
     "text": [
      "{'text': 'HELLO WORLD ✅'}\n"
     ]
    }
   ],
   "source": [
    "from langgraph.graph import StateGraph, END\n",
    "\n",
    "# 定义状态类型（这里用简单的字典）\n",
    "State = dict\n",
    "\n",
    "# 节点1：将输入字符串变成大写\n",
    "def to_uppercase(state: State):\n",
    "    text = state[\"text\"]\n",
    "    return {\"text\": text.upper()}\n",
    "\n",
    "# 节点2：添加后缀\n",
    "def add_suffix(state: State):\n",
    "    text = state[\"text\"]\n",
    "    return {\"text\": text + \" ✅\"}\n",
    "\n",
    "# 创建状态图\n",
    "builder = StateGraph(State)\n",
    "\n",
    "# 添加两个节点\n",
    "builder.add_node(\"upper\", to_uppercase)\n",
    "builder.add_node(\"suffix\", add_suffix)\n",
    "\n",
    "# 设置执行顺序：upper → suffix → 结束\n",
    "builder.set_entry_point(\"upper\")\n",
    "builder.add_edge(\"upper\", \"suffix\")\n",
    "builder.add_edge(\"suffix\", END)\n",
    "\n",
    "# 构建流程图\n",
    "graph = builder.compile()\n",
    "\n",
    "# 执行一次图流程\n",
    "result = graph.invoke({\"text\": \"hello world\"})\n",
    "\n",
    "# 打印最终结果\n",
    "print(result)\n"
   ]
  },
  {
   "cell_type": "code",
   "execution_count": null,
   "metadata": {
    "collapsed": false,
    "jupyter": {
     "outputs_hidden": false
    },
    "pycharm": {
     "name": "#%%\n"
    }
   },
   "outputs": [],
   "source": []
  }
 ],
 "metadata": {
  "kernelspec": {
   "display_name": "Python 3 (ipykernel)",
   "language": "python",
   "name": "python3"
  },
  "language_info": {
   "codemirror_mode": {
    "name": "ipython",
    "version": 3
   },
   "file_extension": ".py",
   "mimetype": "text/x-python",
   "name": "python",
   "nbconvert_exporter": "python",
   "pygments_lexer": "ipython3",
   "version": "3.10.16"
  }
 },
 "nbformat": 4,
 "nbformat_minor": 4
}
